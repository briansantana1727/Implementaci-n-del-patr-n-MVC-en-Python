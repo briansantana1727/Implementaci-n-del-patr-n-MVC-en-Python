{
 "cells": [
  {
   "cell_type": "markdown",
   "metadata": {},
   "source": [
    "<div style=\"display:flex;flex-direction:row;justify-content: space-evenly;\">\n",
    "    <img src=\"mexico.jpg\" style=\"height:200px;\">\n",
    "    <img src=\"colima.svg\" style=\"width:200px\">\n",
    "</div>\n",
    "<div style=\"display:flex;flex-direction:column;gap:20px;text-align:center\">\n",
    "<h1>Tecnológico Nacional de México campus Colima</h1>\n",
    "<h2>Maestría en Sistemas Computacionales</h2>\n",
    "<h2>Tecnologías de programación</h2>\n",
    "<h2>Actividad - Implementación del patrón MVC en Python</h2>\n",
    "<h2>D. en C. Patricia Elizabeth Figueroa Millán</h2>\n",
    "<h3>Brandon Jesus Santana Gudiño | G2146006</h3>\n",
    "<p >Villa de Álvarez, Colima - 1 de diciembre de 2022</p>\n",
    "</div>"
   ]
  },
  {
   "cell_type": "markdown",
   "metadata": {},
   "source": [
    "<h3>Objetivo:</h3>\n",
    "<h4>Hacer una investigación e implementación del patrón de diseño arquitectural Modelo, Vista, Controlador en el lenguaje de Python, además de realizar la documentación necesaria con los fundamentos de su funcionamiento y un ejemplo de dicho patrón.</h4>\n"
   ]
  },
  {
   "cell_type": "markdown",
   "metadata": {},
   "source": [
    "<h3>Metodología:</h3>\n",
    "<h4>Se realiza una investigación en base al patrón MVC en un entorno de Python, además de realizar un ejemplo del patrón en Python con el objetivo de apoyar la investigación realizada en este documento.</h4>"
   ]
  },
  {
   "cell_type": "markdown",
   "metadata": {},
   "source": [
    "<h3>Materiales utilizados:</h3>\n",
    "<p>+ Computadora portatil</p>\n",
    "<p>+ Visual Studio Code</p>\n",
    "<p>+ Python</p>\n"
   ]
  },
  {
   "cell_type": "markdown",
   "metadata": {},
   "source": [
    "<h3>Desarrollo:</h3>\n",
    "<h4>El patrón MVC no es solo un modelo de software que nos sirve para implementar interfaces de usuario, sino que también nos sirve como una arquitectura que esta desarrollada para ser modificada de manera simple y con la ventaja de que se puede mantener en un entorno controlado. \n",
    "Este patrón esta basado en 3 partes básicas las cuales son el modelo, la vista y el controlador, estas tres secciones se relacionan de tal manera que hacen más fácil el procesamiento de información al momento de presentarla.</h4>\n",
    "<h4>La forma de funcionar del patrón del modelo MVC esta basado en los siguiente.</h4>\n",
    "<h4>•\tModelo: Esta parte esta encargada de proporcionar los datos y la lógica empresarial.</h4>\n",
    "<h4>•\tVista: En esta sección se desarrolla la visualización de los datos.</h4>\n",
    "<h4>•\tControlador: Esta parte funciona como un pegamento entre las dos entidades, ya que coordina el modelo y las vistas de acuerdo con las peticiones que realicen los usuarios.</h4>\n",
    "<h4>Un dato interesante es que las vistas y los controladores dependen de los modelos y no al revés, esto sucede principalmente por que los usuarios se preocupan más por los datos.</h4>\n",
    "<h4>1.\tAislar los datos y la visualización de estos.</h4>\n",
    "<h4>2.\tFacilitar el mantenimiento y la implementación de las clases creadas.</h4>\n",
    "<h4>3.\tMejorar el almacenamiento y la visualización de los datos, de tal forma que sean independientes y se puedan modificar de manera flexible.</h4>\n",
    "<h4>Ahora que se sabe un poco más acerca del patrón MVC en Python, acontinuación se explica mejor cómo funciona cada etapa.</h4>\n",
    "<h4>Modelo.</h4>\n",
    "<h4>\n",
    "El modelo es la piedra angular de la aplicación, porque es independiente de la vista y el controlador, y la vista y el controlador dependen del modelo.\n",
    "El modelo también proporciona los datos solicitados por el cliente. Por lo general, en una aplicación, un modelo está representado por una base de datos que almacena y devuelve información. El modelo proporciona el estado y el método para cambiar el estado, pero no sabe cómo se muestran los datos al cliente.\n",
    "El modelo debe ser coherente en varias operaciones; de lo contrario, el cliente puede corromper o mostrar datos desactualizados, lo cual es intolerable.\n",
    "Dado que el modelo es completamente independiente, la persona que desarrolla el modelo puede centrarse en mantener el modelo en sí mismo sin prestar atención a los últimos cambios en la vista.\n",
    "</h4>\n",
    "<h4>Vista.</h4>\n",
    "<h4>\n",
    "La vista se utiliza para mostrar datos en la interfaz para que los vean los clientes. La vista se puede desarrollar de forma independiente, pero no debe contener ninguna lógica responsable, porque la lógica debe colocarse en el controlador o modelo.\n",
    "En el mundo actual, las vistas deben ser lo suficientemente flexibles y adaptarse a múltiples plataformas.\n",
    "La vista debe evitar la interacción directa con la base de datos, pero debe confiar en el modelo para obtener los datos necesarios.\n",
    "</h4>\n",
    "<h4>Controlador.</h4>\n",
    "<h4>\n",
    "El controlador, como su nombre indica, es controlar la interacción del usuario en la interfaz. Cuando el usuario hace clic en algunos elementos de la interfaz, en función de la interacción correspondiente, el controlador llama al modelo correspondiente y luego el modelo completa acciones como crear, actualizar o eliminar datos.\n",
    "El controlador también puede pasar datos a la vista para que la información se pueda presentar en la interfaz para que la vea el usuario.\n",
    "El controlador no debe realizar llamadas a la base de datos ni participar en la visualización de datos. El controlador debe actuar como el pegamento entre el modelo y la vista.\n",
    "</h4>\n",
    "\n"
   ]
  },
  {
   "cell_type": "markdown",
   "metadata": {},
   "source": [
    "<h4>En las siguientes líneas de código se muestra un código simple del patrón MVC.</h4>"
   ]
  },
  {
   "cell_type": "code",
   "execution_count": 4,
   "metadata": {},
   "outputs": [
    {
     "name": "stdout",
     "output_type": "stream",
     "text": [
      "Servicios prestados:\n",
      "Email  \n",
      "SMS  \n",
      "Correo de voz  \n",
      "Precios de los servicios:\n",
      "Por 1000 Email , se paga $ 2\n",
      "Por 1000 SMS , se paga $ 10\n",
      "Por 1000 Correo de voz , se paga $ 15\n"
     ]
    }
   ],
   "source": [
    "#Primero desarrollamos la clase modelo (modelo) para definir \n",
    "#los servicios y costos proporcionados por el producto;\n",
    "class Model(object):\n",
    "    services = {\n",
    "        'Email': {'number': 1000, 'price': 2},\n",
    "        'SMS': {'number': 1000, 'price': 10},\n",
    "        'Correo de voz': {'number': 1000, 'price': 15},\n",
    "    }\n",
    " \n",
    " #Luego defina la clase de vista (vista), \n",
    " #que proporciona un método para retroalimentar la información al cliente\n",
    "class View(object):\n",
    "    def list_services(self, services):\n",
    "        for svc in services:\n",
    "            print(svc, \" \")\n",
    " \n",
    "    def list_pricing(self, services):\n",
    "        for svc in services:\n",
    "            print(\"Por\", Model.services[svc]['number'],\n",
    "                  svc, \", se paga $\",\n",
    "                  Model.services[svc]['price'])\n",
    " #A continuación, defina la clase Controller, que define dos métodos.\n",
    "class Controller(object):\n",
    "    def __init__(self):\n",
    "        self.model = Model()\n",
    "        self.view = View()\n",
    " #get_services () y get_pricing (), nos sirven para consultar el modelo con la finalidad\n",
    " #de obtener datos y luego enviarlos a la vista del usuario.\n",
    "    def get_services(self):\n",
    "        services = self.model.services.keys()\n",
    "        return self.view.list_services(services)\n",
    " \n",
    "    def get_pricing(self):\n",
    "        services = self.model.services.keys()\n",
    "        return self.view.list_pricing(services)\n",
    " \n",
    "#La clase Client creará una instancia del controlador, y luego el objeto \n",
    "#controlador llamará al método apropiado de acuerdo con la solicitud del cliente.\n",
    "class Client(object):\n",
    "    con = Controller()\n",
    "    print(\"Servicios prestados:\")\n",
    "    con.get_services()\n",
    "    print(\"Precios de los servicios:\")\n",
    "    con.get_pricing()"
   ]
  },
  {
   "cell_type": "markdown",
   "metadata": {},
   "source": [
    "<h3>Conclusiones: </h3>\n",
    "<h4>Para este documento se ha aprendido el funcionamiento del patrón MVC el cual nos permite estructurar de mejor manera nuestros codigos al momento de programar, ademas de que con MVC al dividir el software en tres partes principales, se mejora la capacidad del mantenimiento y se logra el acoplamiento flexible y se reduce la complejidad. En las siguientes líneas de código se muestra un código simple del patrón MVC.\n",
    "Otra ventaja del patrón MVC es que se pueden realizar cambios independientes en el front-end sin ninguna modificación o muy pocos cambios en la lógica del back-end, por lo que el trabajo de desarrollo se ejecuta de manera independiente.\n",
    "</h4>"
   ]
  },
  {
   "cell_type": "markdown",
   "metadata": {},
   "source": [
    "Referencias:\n",
    "<p>https://programmerclick.com/article/32121550755/</p>\n",
    "<p>https://www.giacomodebidda.com/posts/mvc-pattern-in-python-introduction-and-basicmodel/</p>\n",
    "<p>https://pythones.net/arquitectura-mvc-en-python/</p>\n",
    "<p>https://github.com/williamniemiec/MVC-in-Python</p>\n",
    "\n",
    "\n"
   ]
  }
 ],
 "metadata": {
  "kernelspec": {
   "display_name": "Python 3.10.8 64-bit (microsoft store)",
   "language": "python",
   "name": "python3"
  },
  "language_info": {
   "codemirror_mode": {
    "name": "ipython",
    "version": 3
   },
   "file_extension": ".py",
   "mimetype": "text/x-python",
   "name": "python",
   "nbconvert_exporter": "python",
   "pygments_lexer": "ipython3",
   "version": "3.10.8"
  },
  "orig_nbformat": 4,
  "vscode": {
   "interpreter": {
    "hash": "290432a7c5e74225faf3fa52cc26c922d5d39629909ea220d7cdbc10cbc2ef84"
   }
  }
 },
 "nbformat": 4,
 "nbformat_minor": 2
}
